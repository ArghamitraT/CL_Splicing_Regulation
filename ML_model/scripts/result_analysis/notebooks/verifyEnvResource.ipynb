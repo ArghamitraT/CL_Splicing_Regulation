{
 "cells": [
  {
   "cell_type": "code",
   "execution_count": 2,
   "id": "8fd245ae-f514-41f7-9883-ab0b37c8e9f2",
   "metadata": {},
   "outputs": [
    {
     "name": "stdout",
     "output_type": "stream",
     "text": [
      "---- Python Executable ----\n",
      "/gpfs/commons/home/atalukder/miniconda3/envs/Myjupyterenv/bin/python\n",
      "\n",
      "\n",
      "---- Conda Environments ----\n",
      "/bin/bash: /gpfs/commons/home/atalukder/miniconda3/lib/libtinfo.so.6: no version information available (required by /bin/bash)\n",
      "# conda environments:\n",
      "#\n",
      "base                     /gpfs/commons/home/atalukder/miniconda3\n",
      "CntrstvLrn_1             /gpfs/commons/home/atalukder/miniconda3/envs/CntrstvLrn_1\n",
      "JOLI                     /gpfs/commons/home/atalukder/miniconda3/envs/JOLI\n",
      "Myjupyterenv          *  /gpfs/commons/home/atalukder/miniconda3/envs/Myjupyterenv\n",
      "NLP                      /gpfs/commons/home/atalukder/miniconda3/envs/NLP\n",
      "NanoCount_4              /gpfs/commons/home/atalukder/miniconda3/envs/NanoCount_4\n",
      "NanoCount_5              /gpfs/commons/home/atalukder/miniconda3/envs/NanoCount_5\n",
      "NanoCount_5_shree        /gpfs/commons/home/atalukder/miniconda3/envs/NanoCount_5_shree\n",
      "NanoCount_trial          /gpfs/commons/home/atalukder/miniconda3/envs/NanoCount_trial\n",
      "cl_splicing_regulation     /gpfs/commons/home/atalukder/miniconda3/envs/cl_splicing_regulation\n",
      "cl_splicing_regulation2     /gpfs/commons/home/atalukder/miniconda3/envs/cl_splicing_regulation2\n",
      "cl_splicing_regulation3     /gpfs/commons/home/atalukder/miniconda3/envs/cl_splicing_regulation3\n",
      "mpaqt                    /gpfs/commons/home/atalukder/miniconda3/envs/mpaqt\n",
      "otherModels_AT           /gpfs/commons/home/atalukder/miniconda3/envs/otherModels_AT\n",
      "phastcon                 /gpfs/commons/home/atalukder/miniconda3/envs/phastcon\n",
      "simCLR                   /gpfs/commons/home/atalukder/miniconda3/envs/simCLR\n",
      "snakemake_env            /gpfs/commons/home/atalukder/miniconda3/envs/snakemake_env\n",
      "\n",
      "\n",
      "\n",
      "---- Which Python ----\n",
      "/bin/bash: /gpfs/commons/home/atalukder/miniconda3/lib/libtinfo.so.6: no version information available (required by /bin/bash)\n",
      "/gpfs/commons/home/atalukder/miniconda3/envs/Myjupyterenv/bin/python\n",
      "---- Hostname ----\n",
      "/bin/bash: /gpfs/commons/home/atalukder/miniconda3/lib/libtinfo.so.6: no version information available (required by /bin/bash)\n",
      "ne1dc4-010.nygenome.org\n",
      "\n",
      "\n",
      "---- CPU Cores ----\n",
      "/bin/bash: /gpfs/commons/home/atalukder/miniconda3/lib/libtinfo.so.6: no version information available (required by /bin/bash)\n",
      "8\n",
      "\n",
      "\n",
      "---- Memory (RAM) ----\n",
      "/bin/bash: /gpfs/commons/home/atalukder/miniconda3/lib/libtinfo.so.6: no version information available (required by /bin/bash)\n",
      "               total        used        free      shared  buff/cache   available\n",
      "Mem:           251Gi        73Gi       177Gi       9.0Mi       1.0Gi       174Gi\n",
      "Swap:             0B          0B          0B\n"
     ]
    }
   ],
   "source": [
    "# verify environment and cluster resources\n",
    "# Import the sys module to check the Python executable path\n",
    "import sys\n",
    "print(\"---- Python Executable ----\")\n",
    "print(sys.executable)\n",
    "print(\"\\n\")\n",
    "\n",
    "# Use shell commands to check the active conda environment\n",
    "print(\"---- Conda Environments ----\")\n",
    "!conda info --envs\n",
    "print(\"\\n\")\n",
    "\n",
    "# Another way to check the python path from the shell\n",
    "print(\"---- Which Python ----\")\n",
    "!which python\n",
    "\n",
    "# Check the hostname of the machine the code is running on\n",
    "print(\"---- Hostname ----\")\n",
    "!hostname\n",
    "print(\"\\n\")\n",
    "\n",
    "# Check the number of CPU cores available to you\n",
    "print(\"---- CPU Cores ----\")\n",
    "!nproc\n",
    "print(\"\\n\")\n",
    "\n",
    "# Check the available Memory (RAM) in a human-readable format\n",
    "print(\"---- Memory (RAM) ----\")\n",
    "!free -h"
   ]
  },
  {
   "cell_type": "code",
   "execution_count": null,
   "id": "48881e34-03b4-4e9c-bf1a-5285750a3220",
   "metadata": {},
   "outputs": [],
   "source": []
  }
 ],
 "metadata": {
  "kernelspec": {
   "display_name": "Python 3 (ipykernel)",
   "language": "python",
   "name": "python3"
  },
  "language_info": {
   "codemirror_mode": {
    "name": "ipython",
    "version": 3
   },
   "file_extension": ".py",
   "mimetype": "text/x-python",
   "name": "python",
   "nbconvert_exporter": "python",
   "pygments_lexer": "ipython3",
   "version": "3.10.18"
  }
 },
 "nbformat": 4,
 "nbformat_minor": 5
}
